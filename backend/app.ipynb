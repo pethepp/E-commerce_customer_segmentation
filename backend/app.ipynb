{
 "cells": [
  {
   "cell_type": "code",
   "execution_count": 1,
   "id": "92f97319-de58-4daf-948a-71d861f05f56",
   "metadata": {},
   "outputs": [],
   "source": [
    "from flask import Flask, request, jsonify\n",
    "import joblib\n",
    "import numpy as np\n",
    "from flask_cors import CORS\n",
    "\n"
   ]
  },
  {
   "cell_type": "code",
   "execution_count": 2,
   "id": "113d5036-1415-4865-bd51-2e3c9a504b23",
   "metadata": {},
   "outputs": [
    {
     "data": {
      "text/plain": [
       "<flask_cors.extension.CORS at 0x22b0ac1bb90>"
      ]
     },
     "execution_count": 2,
     "metadata": {},
     "output_type": "execute_result"
    }
   ],
   "source": [
    "app = Flask(__name__)\n",
    "CORS(app)\n",
    "\n",
    "\n"
   ]
  },
  {
   "cell_type": "code",
   "execution_count": 3,
   "id": "a498f472-b39b-4e54-99e1-4879b5ee9e20",
   "metadata": {},
   "outputs": [],
   "source": [
    "# Load the trained model and scaler using joblib\n",
    "kmeans = joblib.load(\"kmeans_model.pkl\")\n",
    "scaler = joblib.load(\"scaler.pkl\")\n",
    "\n"
   ]
  },
  {
   "cell_type": "code",
   "execution_count": 4,
   "id": "f39a8766-522b-4c55-8fc5-096eca850b93",
   "metadata": {},
   "outputs": [],
   "source": [
    "segment_mapping = {\n",
    "    0: \"Loyal Customers\",\n",
    "    1: \"Regular Shoppers\",\n",
    "    2: \"Churned Customers\",\n",
    "    3: \"Potential High-Value\"\n",
    "}"
   ]
  },
  {
   "cell_type": "code",
   "execution_count": 5,
   "id": "7b0727ab-3019-4180-aea1-81c73f7e5e86",
   "metadata": {},
   "outputs": [],
   "source": [
    "@app.route(\"/predict\", methods=[\"POST\"])\n",
    "def predict():\n",
    "    try:\n",
    "        data = request.json  # Expecting a list of dictionaries\n",
    "        if not isinstance(data, list):\n",
    "            return jsonify({\"error\": \"Input must be a list of feature objects\"}), 400\n",
    "\n",
    "        predictions = []\n",
    "        for entry in data:\n",
    "            features = np.array(entry[\"features\"]).reshape(1, -1)  # Convert input to array\n",
    "            scaled_features = scaler.transform(features)\n",
    "            cluster = kmeans.predict(scaled_features)[0]\n",
    "            \n",
    "            predictions.append({\n",
    "                \"features\": entry[\"features\"],\n",
    "                \"cluster\": int(cluster),\n",
    "                \"segment\": segment_mapping.get(cluster, \"Unknown Segment\")\n",
    "            })\n",
    "        \n",
    "        return jsonify(predictions)\n",
    "\n",
    "    except Exception as e:\n",
    "        return jsonify({\"error\": str(e)}), 400"
   ]
  },
  {
   "cell_type": "code",
   "execution_count": null,
   "id": "aee12596-eb84-4b4a-ad9e-197f5ac8ac50",
   "metadata": {},
   "outputs": [
    {
     "name": "stdout",
     "output_type": "stream",
     "text": [
      " * Serving Flask app '__main__'\n",
      " * Debug mode: off\n"
     ]
    },
    {
     "name": "stderr",
     "output_type": "stream",
     "text": [
      "WARNING: This is a development server. Do not use it in a production deployment. Use a production WSGI server instead.\n",
      " * Running on http://127.0.0.1:5000\n",
      "Press CTRL+C to quit\n"
     ]
    }
   ],
   "source": [
    "if __name__ == \"__main__\":\n",
    "    app.run(debug=False)"
   ]
  },
  {
   "cell_type": "code",
   "execution_count": null,
   "id": "6184d3d5-9ebc-41fd-bf7c-6e45de8d4290",
   "metadata": {},
   "outputs": [],
   "source": []
  }
 ],
 "metadata": {
  "kernelspec": {
   "display_name": "Python 3 (ipykernel)",
   "language": "python",
   "name": "python3"
  },
  "language_info": {
   "codemirror_mode": {
    "name": "ipython",
    "version": 3
   },
   "file_extension": ".py",
   "mimetype": "text/x-python",
   "name": "python",
   "nbconvert_exporter": "python",
   "pygments_lexer": "ipython3",
   "version": "3.11.7"
  }
 },
 "nbformat": 4,
 "nbformat_minor": 5
}
