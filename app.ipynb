{
 "cells": [
  {
   "cell_type": "code",
   "execution_count": 1,
   "id": "8b9f4f23-2070-4413-a3a2-f27bb955f963",
   "metadata": {},
   "outputs": [],
   "source": [
    "import pandas as pd\n",
    "import numpy as np"
   ]
  },
  {
   "cell_type": "code",
   "execution_count": 2,
   "id": "4e41e5ff-693c-4f36-916d-e85d1b6a0697",
   "metadata": {},
   "outputs": [],
   "source": [
    "df = pd.read_csv('e-commerce_dataset.csv')"
   ]
  },
  {
   "cell_type": "code",
   "execution_count": 3,
   "id": "9ce3547a-614c-493d-b943-2c24df0acf45",
   "metadata": {},
   "outputs": [
    {
     "data": {
      "text/plain": [
       "67339"
      ]
     },
     "execution_count": 3,
     "metadata": {},
     "output_type": "execute_result"
    }
   ],
   "source": [
    "df['Customer ID'].nunique()"
   ]
  },
  {
   "cell_type": "code",
   "execution_count": 4,
   "id": "cb761ebc-1e66-4f3d-8823-1aaceb1f929b",
   "metadata": {},
   "outputs": [
    {
     "data": {
      "text/html": [
       "<div>\n",
       "<style scoped>\n",
       "    .dataframe tbody tr th:only-of-type {\n",
       "        vertical-align: middle;\n",
       "    }\n",
       "\n",
       "    .dataframe tbody tr th {\n",
       "        vertical-align: top;\n",
       "    }\n",
       "\n",
       "    .dataframe thead th {\n",
       "        text-align: right;\n",
       "    }\n",
       "</style>\n",
       "<table border=\"1\" class=\"dataframe\">\n",
       "  <thead>\n",
       "    <tr style=\"text-align: right;\">\n",
       "      <th></th>\n",
       "      <th>Customer ID</th>\n",
       "      <th>Invoice Date</th>\n",
       "      <th>Stock Code</th>\n",
       "      <th>Description</th>\n",
       "      <th>Product Category</th>\n",
       "      <th>Purchase Amount (₹)</th>\n",
       "      <th>Quantity</th>\n",
       "      <th>Discount Used</th>\n",
       "      <th>City</th>\n",
       "      <th>State</th>\n",
       "      <th>Country</th>\n",
       "      <th>Payment Mode</th>\n",
       "    </tr>\n",
       "  </thead>\n",
       "  <tbody>\n",
       "    <tr>\n",
       "      <th>0</th>\n",
       "      <td>525147</td>\n",
       "      <td>2023-02-19 07:25:00</td>\n",
       "      <td>ELE210</td>\n",
       "      <td>Smartwatch</td>\n",
       "      <td>Electronics</td>\n",
       "      <td>1499</td>\n",
       "      <td>1</td>\n",
       "      <td>No</td>\n",
       "      <td>Bhopal</td>\n",
       "      <td>Madhya Pradesh</td>\n",
       "      <td>India</td>\n",
       "      <td>UPI</td>\n",
       "    </tr>\n",
       "    <tr>\n",
       "      <th>1</th>\n",
       "      <td>525147</td>\n",
       "      <td>2022-12-11 09:20:00</td>\n",
       "      <td>TOY647</td>\n",
       "      <td>Lego Set</td>\n",
       "      <td>Toys &amp; Baby Products</td>\n",
       "      <td>1999</td>\n",
       "      <td>3</td>\n",
       "      <td>Yes</td>\n",
       "      <td>Bhopal</td>\n",
       "      <td>Madhya Pradesh</td>\n",
       "      <td>India</td>\n",
       "      <td>Debit Card</td>\n",
       "    </tr>\n",
       "    <tr>\n",
       "      <th>2</th>\n",
       "      <td>525147</td>\n",
       "      <td>2022-12-05 14:48:00</td>\n",
       "      <td>TOY427</td>\n",
       "      <td>Baby Stroller</td>\n",
       "      <td>Toys &amp; Baby Products</td>\n",
       "      <td>4999</td>\n",
       "      <td>1</td>\n",
       "      <td>Yes</td>\n",
       "      <td>Mumbai</td>\n",
       "      <td>Maharashtra</td>\n",
       "      <td>India</td>\n",
       "      <td>Net Banking</td>\n",
       "    </tr>\n",
       "    <tr>\n",
       "      <th>3</th>\n",
       "      <td>525147</td>\n",
       "      <td>2023-01-21 05:14:00</td>\n",
       "      <td>GRO756</td>\n",
       "      <td>Wheat Flour (5kg)</td>\n",
       "      <td>Groceries</td>\n",
       "      <td>249</td>\n",
       "      <td>3</td>\n",
       "      <td>Yes</td>\n",
       "      <td>Coimbatore</td>\n",
       "      <td>Tamil Nadu</td>\n",
       "      <td>India</td>\n",
       "      <td>Net Banking</td>\n",
       "    </tr>\n",
       "    <tr>\n",
       "      <th>4</th>\n",
       "      <td>525147</td>\n",
       "      <td>2023-07-13 16:31:00</td>\n",
       "      <td>FAS689</td>\n",
       "      <td>Kurta</td>\n",
       "      <td>Fashion</td>\n",
       "      <td>999</td>\n",
       "      <td>1</td>\n",
       "      <td>No</td>\n",
       "      <td>Bangalore</td>\n",
       "      <td>Karnataka</td>\n",
       "      <td>India</td>\n",
       "      <td>Cash on Delivery</td>\n",
       "    </tr>\n",
       "  </tbody>\n",
       "</table>\n",
       "</div>"
      ],
      "text/plain": [
       "   Customer ID         Invoice Date Stock Code        Description  \\\n",
       "0       525147  2023-02-19 07:25:00     ELE210         Smartwatch   \n",
       "1       525147  2022-12-11 09:20:00     TOY647           Lego Set   \n",
       "2       525147  2022-12-05 14:48:00     TOY427      Baby Stroller   \n",
       "3       525147  2023-01-21 05:14:00     GRO756  Wheat Flour (5kg)   \n",
       "4       525147  2023-07-13 16:31:00     FAS689              Kurta   \n",
       "\n",
       "       Product Category  Purchase Amount (₹)  Quantity Discount Used  \\\n",
       "0           Electronics                 1499         1            No   \n",
       "1  Toys & Baby Products                 1999         3           Yes   \n",
       "2  Toys & Baby Products                 4999         1           Yes   \n",
       "3             Groceries                  249         3           Yes   \n",
       "4               Fashion                  999         1            No   \n",
       "\n",
       "         City           State Country      Payment Mode  \n",
       "0      Bhopal  Madhya Pradesh   India               UPI  \n",
       "1      Bhopal  Madhya Pradesh   India        Debit Card  \n",
       "2      Mumbai     Maharashtra   India       Net Banking  \n",
       "3  Coimbatore      Tamil Nadu   India       Net Banking  \n",
       "4   Bangalore       Karnataka   India  Cash on Delivery  "
      ]
     },
     "execution_count": 4,
     "metadata": {},
     "output_type": "execute_result"
    }
   ],
   "source": [
    "df.head()"
   ]
  },
  {
   "cell_type": "code",
   "execution_count": 5,
   "id": "34c940c7-751c-4721-8d61-2d951653c8aa",
   "metadata": {},
   "outputs": [
    {
     "data": {
      "text/plain": [
       "City\n",
       "Lucknow          31036\n",
       "Delhi            31023\n",
       "Chandigarh       31008\n",
       "Guwahati         31002\n",
       "Ahmedabad        30983\n",
       "Bangalore        30935\n",
       "Visakhapatnam    30918\n",
       "Surat            30870\n",
       "Patna            30866\n",
       "Bhubaneswar      30789\n",
       "Bhopal           30779\n",
       "Mumbai           30764\n",
       "Kolkata          30740\n",
       "Nagpur           30730\n",
       "Hyderabad        30723\n",
       "Indore           30699\n",
       "Jaipur           30677\n",
       "Pune             30615\n",
       "Chennai          30565\n",
       "Coimbatore       30517\n",
       "Name: count, dtype: int64"
      ]
     },
     "execution_count": 5,
     "metadata": {},
     "output_type": "execute_result"
    }
   ],
   "source": [
    "df['City'].value_counts()"
   ]
  },
  {
   "cell_type": "code",
   "execution_count": 6,
   "id": "a409def4-052d-406c-8a79-03bdd32aa88c",
   "metadata": {},
   "outputs": [],
   "source": [
    "df['Invoice Date'] = pd.to_datetime(df['Invoice Date'])"
   ]
  },
  {
   "cell_type": "code",
   "execution_count": 7,
   "id": "f14438e4-b891-46d2-8ea5-4dc48a71d42f",
   "metadata": {},
   "outputs": [],
   "source": [
    "current_date = df['Invoice Date'].max()"
   ]
  },
  {
   "cell_type": "code",
   "execution_count": 8,
   "id": "d9279b4a-536a-4150-99e4-03abe6708bc5",
   "metadata": {},
   "outputs": [],
   "source": [
    "# Calculate Recency, Frequency, and Monetary for each customer\n",
    "rfm = df.groupby('Customer ID').agg({\n",
    "    'Invoice Date': lambda x: (current_date - x.max()).days,  # Recency\n",
    "    'Stock Code': 'count',  # Frequency\n",
    "    'Purchase Amount (₹)': 'sum'  # Monetary\n",
    "}).reset_index()"
   ]
  },
  {
   "cell_type": "code",
   "execution_count": 9,
   "id": "86e8b057-37a1-4812-b011-ec5ce892d9e5",
   "metadata": {},
   "outputs": [],
   "source": [
    "# Rename the columns\n",
    "rfm.columns = ['Customer ID', 'Recency', 'Frequency', 'Monetary']"
   ]
  },
  {
   "cell_type": "code",
   "execution_count": 10,
   "id": "bd61b1a5-1d5f-44dc-bd33-9a7ab8ad7cf2",
   "metadata": {},
   "outputs": [],
   "source": [
    "# Assign RFM scores (1-5) using quantiles\n",
    "rfm['R_Score'] = pd.qcut(rfm['Recency'], 5, labels=[5,4,3,2,1]).astype(int)\n",
    "rfm['F_Score'] = pd.qcut(rfm['Frequency'].rank(method='first'), 5, labels=[1,2,3,4,5]).astype(int)\n",
    "rfm['M_Score'] = pd.qcut(rfm['Monetary'], 5, labels=[1,2,3,4,5]).astype(int)"
   ]
  },
  {
   "cell_type": "code",
   "execution_count": 11,
   "id": "7fdc2762-9a31-4290-80d0-eb7a8319463f",
   "metadata": {},
   "outputs": [],
   "source": [
    "# Combine RFM Scores to form a composite RFM_Score\n",
    "rfm['RFM_Score'] = rfm['R_Score'].astype(str) + rfm['F_Score'].astype(str) + rfm['M_Score'].astype(str)"
   ]
  },
  {
   "cell_type": "code",
   "execution_count": 12,
   "id": "dd513415-b629-42e1-9ce7-8c07a792b97e",
   "metadata": {},
   "outputs": [],
   "source": [
    "# Save the RFM Score as a CSV file\n",
    "rfm.to_csv('e-commerce_rfm_scores.csv', index=False)"
   ]
  },
  {
   "cell_type": "code",
   "execution_count": 13,
   "id": "44e41f48-8f15-43b1-b0cf-021c0817e42b",
   "metadata": {},
   "outputs": [],
   "source": [
    "data=pd.read_csv('e-commerce_rfm_scores.csv')"
   ]
  },
  {
   "cell_type": "code",
   "execution_count": 14,
   "id": "4dfd19ed-65de-4695-9175-a9315e65f787",
   "metadata": {},
   "outputs": [
    {
     "data": {
      "text/html": [
       "<div>\n",
       "<style scoped>\n",
       "    .dataframe tbody tr th:only-of-type {\n",
       "        vertical-align: middle;\n",
       "    }\n",
       "\n",
       "    .dataframe tbody tr th {\n",
       "        vertical-align: top;\n",
       "    }\n",
       "\n",
       "    .dataframe thead th {\n",
       "        text-align: right;\n",
       "    }\n",
       "</style>\n",
       "<table border=\"1\" class=\"dataframe\">\n",
       "  <thead>\n",
       "    <tr style=\"text-align: right;\">\n",
       "      <th></th>\n",
       "      <th>Customer ID</th>\n",
       "      <th>Recency</th>\n",
       "      <th>Frequency</th>\n",
       "      <th>Monetary</th>\n",
       "      <th>R_Score</th>\n",
       "      <th>F_Score</th>\n",
       "      <th>M_Score</th>\n",
       "      <th>RFM_Score</th>\n",
       "    </tr>\n",
       "  </thead>\n",
       "  <tbody>\n",
       "    <tr>\n",
       "      <th>0</th>\n",
       "      <td>100002</td>\n",
       "      <td>135</td>\n",
       "      <td>5</td>\n",
       "      <td>98095</td>\n",
       "      <td>2</td>\n",
       "      <td>2</td>\n",
       "      <td>4</td>\n",
       "      <td>224</td>\n",
       "    </tr>\n",
       "    <tr>\n",
       "      <th>1</th>\n",
       "      <td>100004</td>\n",
       "      <td>315</td>\n",
       "      <td>3</td>\n",
       "      <td>39147</td>\n",
       "      <td>1</td>\n",
       "      <td>1</td>\n",
       "      <td>2</td>\n",
       "      <td>112</td>\n",
       "    </tr>\n",
       "    <tr>\n",
       "      <th>2</th>\n",
       "      <td>100029</td>\n",
       "      <td>61</td>\n",
       "      <td>10</td>\n",
       "      <td>55240</td>\n",
       "      <td>3</td>\n",
       "      <td>4</td>\n",
       "      <td>3</td>\n",
       "      <td>343</td>\n",
       "    </tr>\n",
       "    <tr>\n",
       "      <th>3</th>\n",
       "      <td>100044</td>\n",
       "      <td>7</td>\n",
       "      <td>9</td>\n",
       "      <td>153991</td>\n",
       "      <td>5</td>\n",
       "      <td>4</td>\n",
       "      <td>5</td>\n",
       "      <td>545</td>\n",
       "    </tr>\n",
       "    <tr>\n",
       "      <th>4</th>\n",
       "      <td>100051</td>\n",
       "      <td>688</td>\n",
       "      <td>1</td>\n",
       "      <td>59999</td>\n",
       "      <td>1</td>\n",
       "      <td>1</td>\n",
       "      <td>3</td>\n",
       "      <td>113</td>\n",
       "    </tr>\n",
       "  </tbody>\n",
       "</table>\n",
       "</div>"
      ],
      "text/plain": [
       "   Customer ID  Recency  Frequency  Monetary  R_Score  F_Score  M_Score  \\\n",
       "0       100002      135          5     98095        2        2        4   \n",
       "1       100004      315          3     39147        1        1        2   \n",
       "2       100029       61         10     55240        3        4        3   \n",
       "3       100044        7          9    153991        5        4        5   \n",
       "4       100051      688          1     59999        1        1        3   \n",
       "\n",
       "   RFM_Score  \n",
       "0        224  \n",
       "1        112  \n",
       "2        343  \n",
       "3        545  \n",
       "4        113  "
      ]
     },
     "execution_count": 14,
     "metadata": {},
     "output_type": "execute_result"
    }
   ],
   "source": [
    "data.head()"
   ]
  },
  {
   "cell_type": "code",
   "execution_count": 15,
   "id": "9b277053-ccbf-4073-93ad-7551c7fb94a6",
   "metadata": {},
   "outputs": [
    {
     "name": "stdout",
     "output_type": "stream",
     "text": [
      "<class 'pandas.core.frame.DataFrame'>\n",
      "RangeIndex: 67339 entries, 0 to 67338\n",
      "Data columns (total 8 columns):\n",
      " #   Column       Non-Null Count  Dtype\n",
      "---  ------       --------------  -----\n",
      " 0   Customer ID  67339 non-null  int64\n",
      " 1   Recency      67339 non-null  int64\n",
      " 2   Frequency    67339 non-null  int64\n",
      " 3   Monetary     67339 non-null  int64\n",
      " 4   R_Score      67339 non-null  int64\n",
      " 5   F_Score      67339 non-null  int64\n",
      " 6   M_Score      67339 non-null  int64\n",
      " 7   RFM_Score    67339 non-null  int64\n",
      "dtypes: int64(8)\n",
      "memory usage: 4.1 MB\n"
     ]
    }
   ],
   "source": [
    "data.info()"
   ]
  },
  {
   "cell_type": "code",
   "execution_count": 16,
   "id": "ae2948dd-6bec-426e-97ca-137ba63b483c",
   "metadata": {},
   "outputs": [
    {
     "data": {
      "text/html": [
       "<div>\n",
       "<style scoped>\n",
       "    .dataframe tbody tr th:only-of-type {\n",
       "        vertical-align: middle;\n",
       "    }\n",
       "\n",
       "    .dataframe tbody tr th {\n",
       "        vertical-align: top;\n",
       "    }\n",
       "\n",
       "    .dataframe thead th {\n",
       "        text-align: right;\n",
       "    }\n",
       "</style>\n",
       "<table border=\"1\" class=\"dataframe\">\n",
       "  <thead>\n",
       "    <tr style=\"text-align: right;\">\n",
       "      <th></th>\n",
       "      <th>Customer ID</th>\n",
       "      <th>Recency</th>\n",
       "      <th>Frequency</th>\n",
       "      <th>Monetary</th>\n",
       "      <th>R_Score</th>\n",
       "      <th>F_Score</th>\n",
       "      <th>M_Score</th>\n",
       "      <th>RFM_Score</th>\n",
       "    </tr>\n",
       "  </thead>\n",
       "  <tbody>\n",
       "    <tr>\n",
       "      <th>count</th>\n",
       "      <td>67339.000000</td>\n",
       "      <td>67339.000000</td>\n",
       "      <td>67339.000000</td>\n",
       "      <td>67339.000000</td>\n",
       "      <td>67339.000000</td>\n",
       "      <td>67339.000000</td>\n",
       "      <td>67339.000000</td>\n",
       "      <td>67339.000000</td>\n",
       "    </tr>\n",
       "    <tr>\n",
       "      <th>mean</th>\n",
       "      <td>552233.842053</td>\n",
       "      <td>115.876268</td>\n",
       "      <td>9.151294</td>\n",
       "      <td>80949.189741</td>\n",
       "      <td>3.007499</td>\n",
       "      <td>3.000000</td>\n",
       "      <td>2.999941</td>\n",
       "      <td>333.749877</td>\n",
       "    </tr>\n",
       "    <tr>\n",
       "      <th>std</th>\n",
       "      <td>259490.433601</td>\n",
       "      <td>134.956793</td>\n",
       "      <td>7.785315</td>\n",
       "      <td>81861.956658</td>\n",
       "      <td>1.415028</td>\n",
       "      <td>1.414235</td>\n",
       "      <td>1.414266</td>\n",
       "      <td>150.014294</td>\n",
       "    </tr>\n",
       "    <tr>\n",
       "      <th>min</th>\n",
       "      <td>100002.000000</td>\n",
       "      <td>0.000000</td>\n",
       "      <td>1.000000</td>\n",
       "      <td>50.000000</td>\n",
       "      <td>1.000000</td>\n",
       "      <td>1.000000</td>\n",
       "      <td>1.000000</td>\n",
       "      <td>111.000000</td>\n",
       "    </tr>\n",
       "    <tr>\n",
       "      <th>25%</th>\n",
       "      <td>328668.000000</td>\n",
       "      <td>24.000000</td>\n",
       "      <td>4.000000</td>\n",
       "      <td>23390.000000</td>\n",
       "      <td>2.000000</td>\n",
       "      <td>2.000000</td>\n",
       "      <td>2.000000</td>\n",
       "      <td>221.000000</td>\n",
       "    </tr>\n",
       "    <tr>\n",
       "      <th>50%</th>\n",
       "      <td>551849.000000</td>\n",
       "      <td>67.000000</td>\n",
       "      <td>7.000000</td>\n",
       "      <td>57443.000000</td>\n",
       "      <td>3.000000</td>\n",
       "      <td>3.000000</td>\n",
       "      <td>3.000000</td>\n",
       "      <td>334.000000</td>\n",
       "    </tr>\n",
       "    <tr>\n",
       "      <th>75%</th>\n",
       "      <td>777922.500000</td>\n",
       "      <td>154.000000</td>\n",
       "      <td>10.000000</td>\n",
       "      <td>110852.500000</td>\n",
       "      <td>4.000000</td>\n",
       "      <td>4.000000</td>\n",
       "      <td>4.000000</td>\n",
       "      <td>454.000000</td>\n",
       "    </tr>\n",
       "    <tr>\n",
       "      <th>max</th>\n",
       "      <td>999993.000000</td>\n",
       "      <td>730.000000</td>\n",
       "      <td>76.000000</td>\n",
       "      <td>862055.000000</td>\n",
       "      <td>5.000000</td>\n",
       "      <td>5.000000</td>\n",
       "      <td>5.000000</td>\n",
       "      <td>555.000000</td>\n",
       "    </tr>\n",
       "  </tbody>\n",
       "</table>\n",
       "</div>"
      ],
      "text/plain": [
       "         Customer ID       Recency     Frequency       Monetary       R_Score  \\\n",
       "count   67339.000000  67339.000000  67339.000000   67339.000000  67339.000000   \n",
       "mean   552233.842053    115.876268      9.151294   80949.189741      3.007499   \n",
       "std    259490.433601    134.956793      7.785315   81861.956658      1.415028   \n",
       "min    100002.000000      0.000000      1.000000      50.000000      1.000000   \n",
       "25%    328668.000000     24.000000      4.000000   23390.000000      2.000000   \n",
       "50%    551849.000000     67.000000      7.000000   57443.000000      3.000000   \n",
       "75%    777922.500000    154.000000     10.000000  110852.500000      4.000000   \n",
       "max    999993.000000    730.000000     76.000000  862055.000000      5.000000   \n",
       "\n",
       "            F_Score       M_Score     RFM_Score  \n",
       "count  67339.000000  67339.000000  67339.000000  \n",
       "mean       3.000000      2.999941    333.749877  \n",
       "std        1.414235      1.414266    150.014294  \n",
       "min        1.000000      1.000000    111.000000  \n",
       "25%        2.000000      2.000000    221.000000  \n",
       "50%        3.000000      3.000000    334.000000  \n",
       "75%        4.000000      4.000000    454.000000  \n",
       "max        5.000000      5.000000    555.000000  "
      ]
     },
     "execution_count": 16,
     "metadata": {},
     "output_type": "execute_result"
    }
   ],
   "source": [
    "data.describe()"
   ]
  },
  {
   "cell_type": "code",
   "execution_count": 17,
   "id": "b4fde59f-4f67-483e-ad6e-4fca8ec7beb3",
   "metadata": {},
   "outputs": [],
   "source": [
    "import matplotlib.pyplot as plt\n",
    "from sklearn.cluster import KMeans\n",
    "from sklearn.preprocessing import StandardScaler\n",
    "import joblib"
   ]
  },
  {
   "cell_type": "code",
   "execution_count": 18,
   "id": "9337e365-655c-44e6-8027-d255e25c3486",
   "metadata": {},
   "outputs": [],
   "source": [
    "# Drop unnecessary columns\n",
    "data.drop(['Customer ID', 'R_Score', 'F_Score', 'M_Score', 'RFM_Score'], axis=1, inplace=True)"
   ]
  },
  {
   "cell_type": "code",
   "execution_count": 19,
   "id": "97d15ef2-1433-4b4b-899d-165bebf8cc93",
   "metadata": {},
   "outputs": [
    {
     "data": {
      "text/plain": [
       "array([[ 0.14170368, -0.53322503,  0.2094494 ],\n",
       "       [ 1.47547378, -0.79012084, -0.51064624],\n",
       "       [-0.40662403,  0.10901448, -0.31405773],\n",
       "       [-0.80675506, -0.01943342,  0.89226248],\n",
       "       [ 4.23934184, -1.04701664, -0.25592285]])"
      ]
     },
     "execution_count": 19,
     "metadata": {},
     "output_type": "execute_result"
    }
   ],
   "source": [
    "# Scale the data\n",
    "scaler = StandardScaler()\n",
    "scaled_data = scaler.fit_transform(data)\n",
    "\n",
    "scaled_data[:5]"
   ]
  },
  {
   "cell_type": "code",
   "execution_count": 20,
   "id": "c0933f04-8c4b-4827-ad85-06b486878a80",
   "metadata": {},
   "outputs": [
    {
     "name": "stderr",
     "output_type": "stream",
     "text": [
      "F:\\Anaconda3\\Lib\\site-packages\\sklearn\\cluster\\_kmeans.py:870: FutureWarning: The default value of `n_init` will change from 10 to 'auto' in 1.4. Set the value of `n_init` explicitly to suppress the warning\n",
      "  warnings.warn(\n",
      "F:\\Anaconda3\\Lib\\site-packages\\sklearn\\cluster\\_kmeans.py:870: FutureWarning: The default value of `n_init` will change from 10 to 'auto' in 1.4. Set the value of `n_init` explicitly to suppress the warning\n",
      "  warnings.warn(\n",
      "F:\\Anaconda3\\Lib\\site-packages\\sklearn\\cluster\\_kmeans.py:870: FutureWarning: The default value of `n_init` will change from 10 to 'auto' in 1.4. Set the value of `n_init` explicitly to suppress the warning\n",
      "  warnings.warn(\n",
      "F:\\Anaconda3\\Lib\\site-packages\\sklearn\\cluster\\_kmeans.py:870: FutureWarning: The default value of `n_init` will change from 10 to 'auto' in 1.4. Set the value of `n_init` explicitly to suppress the warning\n",
      "  warnings.warn(\n",
      "F:\\Anaconda3\\Lib\\site-packages\\sklearn\\cluster\\_kmeans.py:870: FutureWarning: The default value of `n_init` will change from 10 to 'auto' in 1.4. Set the value of `n_init` explicitly to suppress the warning\n",
      "  warnings.warn(\n",
      "F:\\Anaconda3\\Lib\\site-packages\\sklearn\\cluster\\_kmeans.py:870: FutureWarning: The default value of `n_init` will change from 10 to 'auto' in 1.4. Set the value of `n_init` explicitly to suppress the warning\n",
      "  warnings.warn(\n",
      "F:\\Anaconda3\\Lib\\site-packages\\sklearn\\cluster\\_kmeans.py:870: FutureWarning: The default value of `n_init` will change from 10 to 'auto' in 1.4. Set the value of `n_init` explicitly to suppress the warning\n",
      "  warnings.warn(\n",
      "F:\\Anaconda3\\Lib\\site-packages\\sklearn\\cluster\\_kmeans.py:870: FutureWarning: The default value of `n_init` will change from 10 to 'auto' in 1.4. Set the value of `n_init` explicitly to suppress the warning\n",
      "  warnings.warn(\n",
      "F:\\Anaconda3\\Lib\\site-packages\\sklearn\\cluster\\_kmeans.py:870: FutureWarning: The default value of `n_init` will change from 10 to 'auto' in 1.4. Set the value of `n_init` explicitly to suppress the warning\n",
      "  warnings.warn(\n",
      "F:\\Anaconda3\\Lib\\site-packages\\sklearn\\cluster\\_kmeans.py:870: FutureWarning: The default value of `n_init` will change from 10 to 'auto' in 1.4. Set the value of `n_init` explicitly to suppress the warning\n",
      "  warnings.warn(\n"
     ]
    }
   ],
   "source": [
    "wcss = []\n",
    "\n",
    "for i in range(1, 11):\n",
    "    kmeans = KMeans(n_clusters=i, random_state=0)\n",
    "    kmeans.fit(scaled_data)\n",
    "    wcss.append(kmeans.inertia_)"
   ]
  },
  {
   "cell_type": "code",
   "execution_count": 21,
   "id": "27d52eb1-5409-4b15-a2e2-ca71763de0c5",
   "metadata": {},
   "outputs": [
    {
     "data": {
      "image/png": "[encoded data removed]",
      "text/plain": [
       "<Figure size 800x500 with 1 Axes>"
      ]
     },
     "metadata": {},
     "output_type": "display_data"
    }
   ],
   "source": [
    "# Plot the Elbow Method graph\n",
    "plt.figure(figsize=(8,5))\n",
    "plt.plot(range(1, 11), wcss, marker='o', linestyle='--')\n",
    "plt.xlabel('Number of Clusters')\n",
    "plt.ylabel('WCSS (Within Cluster Sum of Squares)')\n",
    "plt.title('Elbow Method to Determine Optimal K')\n",
    "plt.show()"
   ]
  },
  {
   "cell_type": "code",
   "execution_count": 22,
   "id": "bc07f6d9-6306-4e65-ba92-7b7f407a2ed5",
   "metadata": {},
   "outputs": [
    {
     "name": "stderr",
     "output_type": "stream",
     "text": [
      "F:\\Anaconda3\\Lib\\site-packages\\sklearn\\cluster\\_kmeans.py:870: FutureWarning: The default value of `n_init` will change from 10 to 'auto' in 1.4. Set the value of `n_init` explicitly to suppress the warning\n",
      "  warnings.warn(\n"
     ]
    }
   ],
   "source": [
    "# Apply K-Means with optimal K\n",
    "kmeans = KMeans(n_clusters=4, random_state=0)\n",
    "clusters = kmeans.fit_predict(scaled_data)"
   ]
  },
  {
   "cell_type": "code",
   "execution_count": 23,
   "id": "50ec9b22-deff-44e4-b47e-8981a987cb8e",
   "metadata": {},
   "outputs": [
    {
     "data": {
      "text/plain": [
       "['scaler.pkl']"
      ]
     },
     "execution_count": 23,
     "metadata": {},
     "output_type": "execute_result"
    }
   ],
   "source": [
    "joblib.dump(kmeans, 'kmeans_model.pkl')\n",
    "joblib.dump(scaler, 'scaler.pkl')"
   ]
  },
  {
   "cell_type": "code",
   "execution_count": 24,
   "id": "229187e4-b9ba-4903-ab76-2bb0e1e5f171",
   "metadata": {},
   "outputs": [],
   "source": [
    "# Add the cluster labels to the original RFM dataframe\n",
    "data['Cluster'] = clusters"
   ]
  },
  {
   "cell_type": "code",
   "execution_count": 25,
   "id": "c68f9a59-483b-4529-8d3f-f4c45319ab62",
   "metadata": {},
   "outputs": [
    {
     "data": {
      "text/html": [
       "<div>\n",
       "<style scoped>\n",
       "    .dataframe tbody tr th:only-of-type {\n",
       "        vertical-align: middle;\n",
       "    }\n",
       "\n",
       "    .dataframe tbody tr th {\n",
       "        vertical-align: top;\n",
       "    }\n",
       "\n",
       "    .dataframe thead th {\n",
       "        text-align: right;\n",
       "    }\n",
       "</style>\n",
       "<table border=\"1\" class=\"dataframe\">\n",
       "  <thead>\n",
       "    <tr style=\"text-align: right;\">\n",
       "      <th></th>\n",
       "      <th>Recency</th>\n",
       "      <th>Frequency</th>\n",
       "      <th>Monetary</th>\n",
       "      <th>Cluster</th>\n",
       "    </tr>\n",
       "  </thead>\n",
       "  <tbody>\n",
       "    <tr>\n",
       "      <th>0</th>\n",
       "      <td>135</td>\n",
       "      <td>5</td>\n",
       "      <td>98095</td>\n",
       "      <td>1</td>\n",
       "    </tr>\n",
       "    <tr>\n",
       "      <th>1</th>\n",
       "      <td>315</td>\n",
       "      <td>3</td>\n",
       "      <td>39147</td>\n",
       "      <td>2</td>\n",
       "    </tr>\n",
       "    <tr>\n",
       "      <th>2</th>\n",
       "      <td>61</td>\n",
       "      <td>10</td>\n",
       "      <td>55240</td>\n",
       "      <td>1</td>\n",
       "    </tr>\n",
       "    <tr>\n",
       "      <th>3</th>\n",
       "      <td>7</td>\n",
       "      <td>9</td>\n",
       "      <td>153991</td>\n",
       "      <td>3</td>\n",
       "    </tr>\n",
       "    <tr>\n",
       "      <th>4</th>\n",
       "      <td>688</td>\n",
       "      <td>1</td>\n",
       "      <td>59999</td>\n",
       "      <td>2</td>\n",
       "    </tr>\n",
       "  </tbody>\n",
       "</table>\n",
       "</div>"
      ],
      "text/plain": [
       "   Recency  Frequency  Monetary  Cluster\n",
       "0      135          5     98095        1\n",
       "1      315          3     39147        2\n",
       "2       61         10     55240        1\n",
       "3        7          9    153991        3\n",
       "4      688          1     59999        2"
      ]
     },
     "execution_count": 25,
     "metadata": {},
     "output_type": "execute_result"
    }
   ],
   "source": [
    "# Check the first few records\n",
    "data.head()"
   ]
  },
  {
   "cell_type": "code",
   "execution_count": 26,
   "id": "8d5edc23-3b3c-4c99-92e8-aec96d5fdd8b",
   "metadata": {},
   "outputs": [
    {
     "name": "stdout",
     "output_type": "stream",
     "text": [
      "   Cluster     Recency  Frequency       Monetary\n",
      "0        0   27.013576  26.828808  254768.587021\n",
      "1        1   92.140187   5.752778   37807.241652\n",
      "2        2  403.420360   2.791451   23686.743532\n",
      "3        3   53.185055  11.401255  118777.714221\n"
     ]
    }
   ],
   "source": [
    "# Analyze the clusters by groupby\n",
    "cluster_analysis = data.groupby('Cluster').agg({\n",
    "    'Recency': 'mean',\n",
    "    'Frequency': 'mean',\n",
    "    'Monetary': 'mean'\n",
    "}).reset_index()\n",
    "print(cluster_analysis)\n"
   ]
  },
  {
   "cell_type": "markdown",
   "id": "5e45bf86-b26a-4cde-8d0a-d26791bab561",
   "metadata": {},
   "source": [
    "In an **e-commerce** use case, we can interpret the clusters as follows based on **Recency, Frequency, and Monetary (RFM) values**:\r\n",
    "\r\n",
    "1. **Cluster 0** (High Frequency, High Monetary, Low Recency)  \r\n",
    "   - **Recency:** 27 days (recent purchases)  \r\n",
    "   - **Frequency:** 26.83 times (frequent shoppers)  \r\n",
    "   - **Monetary:** $254,768.59 (high spenders)  \r\n",
    "   - **Interpretation:** This segment represents **VIP or loyal customers** who shop frequently and spend the most. They should be **rewarded with exclusive deals, loyalty programs, and personalized offers** to maintain engagement.\r\n",
    "\r\n",
    "2. **Cluster 1** (Medium Frequency, Medium Monetary, Medium Recency)  \r\n",
    "   - **Recency:** 92 days  \r\n",
    "   - **Frequency:** 5.75 times  \r\n",
    "   - **Monetary:** $37,807.24  \r\n",
    "   - **Interpretation:** This segment consists of **regular shoppers** who purchase occasionally but are still engaged. Offering **targeted promotions, limited-time discounts, or personalized recommendations** can encourage them to shop more frequently.\r\n",
    "\r\n",
    "3. **Cluster 2** (Low Frequency, Low Monetary, High Recency)  \r\n",
    "   - **Recency:** 403 days (haven't shopped in a long time)  \r\n",
    "   - **Frequency:** 2.79 times  \r\n",
    "   - **Monetary:** $23,686.74  \r\n",
    "   - **Interpretation:** This segment consists of **churned or inactive customers** who haven’t made purchases recently. Strategies to **re-engage them** include **reactivation campaigns, win-back emails, special discounts, or incentives**.\r\n",
    "\r\n",
    "4. **Cluster 3** (Moderate Frequency, Moderate Monetary, Moderate Recency)  \r\n",
    "   - **Recency:** 53 days  \r\n",
    "   - **Frequency:** 11.40 times  \r\n",
    "   - **Monetary:** $118,777.71  \r\n",
    "   - **Interpretation:** These are **potentially high-value customers** who are somewhat engaged. They might be transitioning into VIP customers. Offering **early access to new products, exclusive perks, and personalized promotions** can encourage them to spend more frequently.\r\n",
    "\r\n",
    "### **Business Actions**\r\n",
    "- **Cluster 0:** Focus on retention & VIP rewards.  \r\n",
    "- **Cluster 1:** Encourage more frequent purchases via promotions.  \r\n",
    "- **Cluster 2:** Re-engage with personalized win-back campaigns.  \r\n",
    "- **Cluster 3:** Push toward o visualize this with charts? 📊"
   ]
  },
  {
   "cell_type": "code",
   "execution_count": 27,
   "id": "b5a557dd-97c2-4c04-8754-a8c38b851a83",
   "metadata": {},
   "outputs": [],
   "source": [
    "from mpl_toolkits.mplot3d import Axes3D"
   ]
  },
  {
   "cell_type": "code",
   "execution_count": 28,
   "id": "5a117793-0add-4b79-b8f3-d666e9dc6a05",
   "metadata": {},
   "outputs": [
    {
     "data": {
      "image/png": "[encoded data removed]",
      "text/plain": [
       "<Figure size 1000x700 with 1 Axes>"
      ]
     },
     "metadata": {},
     "output_type": "display_data"
    }
   ],
   "source": [
    "fig = plt.figure(figsize=(10,7))\n",
    "ax = fig.add_subplot(111, projection='3d')\n",
    "# Scatter plot in 3D\n",
    "ax.scatter(data['Recency'], data['Frequency'], data['Monetary'], c=data['Cluster'], cmap='viridis', s=50)\n",
    "# Labels\n",
    "ax.set_xlabel('Recency')\n",
    "ax.set_ylabel('Frequency')\n",
    "ax.set_zlabel('Monetary')\n",
    "plt.title('Customer Segments Based on RFM')\n",
    "plt.show()\n"
   ]
  },
  {
   "cell_type": "code",
   "execution_count": 29,
   "id": "5b3c8b03-55ab-49f8-95dd-efae9d0b834d",
   "metadata": {},
   "outputs": [],
   "source": [
    "data['Segment'] = data['Cluster'].map({\n",
    "    0: 'Loyal Customers',       # High Frequency, High Monetary, Low Recency\n",
    "    1: 'Regular Shoppers',      # Medium Frequency, Medium Monetary, Medium Recency\n",
    "    2: 'Churned Customers',     # Low Frequency, Low Monetary, High Recency\n",
    "    3: 'Potential High-Value'   # Moderate Frequency, Moderate Monetary, Moderate Recency\n",
    "})\n"
   ]
  },
  {
   "cell_type": "code",
   "execution_count": 30,
   "id": "6bdf218f-1166-411d-94c9-abc192c64626",
   "metadata": {},
   "outputs": [],
   "source": [
    "data.to_csv('e-commerce_rfm_with_clusters.csv', index=False)"
   ]
  },
  {
   "cell_type": "code",
   "execution_count": 31,
   "id": "ebf31e1a-7200-483d-a60a-a7e8c883b263",
   "metadata": {},
   "outputs": [],
   "source": [
    "df_clusters=pd.read_csv('e-commerce_rfm_with_clusters.csv')"
   ]
  },
  {
   "cell_type": "code",
   "execution_count": 32,
   "id": "4efdb3d5-9328-4a98-b8ba-705f28fef676",
   "metadata": {},
   "outputs": [
    {
     "data": {
      "text/html": [
       "<div>\n",
       "<style scoped>\n",
       "    .dataframe tbody tr th:only-of-type {\n",
       "        vertical-align: middle;\n",
       "    }\n",
       "\n",
       "    .dataframe tbody tr th {\n",
       "        vertical-align: top;\n",
       "    }\n",
       "\n",
       "    .dataframe thead th {\n",
       "        text-align: right;\n",
       "    }\n",
       "</style>\n",
       "<table border=\"1\" class=\"dataframe\">\n",
       "  <thead>\n",
       "    <tr style=\"text-align: right;\">\n",
       "      <th></th>\n",
       "      <th>Recency</th>\n",
       "      <th>Frequency</th>\n",
       "      <th>Monetary</th>\n",
       "      <th>Cluster</th>\n",
       "      <th>Segment</th>\n",
       "    </tr>\n",
       "  </thead>\n",
       "  <tbody>\n",
       "    <tr>\n",
       "      <th>0</th>\n",
       "      <td>135</td>\n",
       "      <td>5</td>\n",
       "      <td>98095</td>\n",
       "      <td>1</td>\n",
       "      <td>Regular Shoppers</td>\n",
       "    </tr>\n",
       "    <tr>\n",
       "      <th>1</th>\n",
       "      <td>315</td>\n",
       "      <td>3</td>\n",
       "      <td>39147</td>\n",
       "      <td>2</td>\n",
       "      <td>Churned Customers</td>\n",
       "    </tr>\n",
       "    <tr>\n",
       "      <th>2</th>\n",
       "      <td>61</td>\n",
       "      <td>10</td>\n",
       "      <td>55240</td>\n",
       "      <td>1</td>\n",
       "      <td>Regular Shoppers</td>\n",
       "    </tr>\n",
       "    <tr>\n",
       "      <th>3</th>\n",
       "      <td>7</td>\n",
       "      <td>9</td>\n",
       "      <td>153991</td>\n",
       "      <td>3</td>\n",
       "      <td>Potential High-Value</td>\n",
       "    </tr>\n",
       "    <tr>\n",
       "      <th>4</th>\n",
       "      <td>688</td>\n",
       "      <td>1</td>\n",
       "      <td>59999</td>\n",
       "      <td>2</td>\n",
       "      <td>Churned Customers</td>\n",
       "    </tr>\n",
       "  </tbody>\n",
       "</table>\n",
       "</div>"
      ],
      "text/plain": [
       "   Recency  Frequency  Monetary  Cluster               Segment\n",
       "0      135          5     98095        1      Regular Shoppers\n",
       "1      315          3     39147        2     Churned Customers\n",
       "2       61         10     55240        1      Regular Shoppers\n",
       "3        7          9    153991        3  Potential High-Value\n",
       "4      688          1     59999        2     Churned Customers"
      ]
     },
     "execution_count": 32,
     "metadata": {},
     "output_type": "execute_result"
    }
   ],
   "source": [
    "df_clusters.head()"
   ]
  },
  {
   "cell_type": "code",
   "execution_count": 33,
   "id": "80834486-873d-45c0-ac6c-f45611b1b853",
   "metadata": {},
   "outputs": [],
   "source": [
    "# Test the model"
   ]
  },
  {
   "cell_type": "code",
   "execution_count": 34,
   "id": "33fac147-263b-48a5-abfd-5a3000583651",
   "metadata": {},
   "outputs": [],
   "source": [
    "kmeans = joblib.load('kmeans_model.pkl')\n",
    "scaler = joblib.load('scaler.pkl')"
   ]
  },
  {
   "cell_type": "code",
   "execution_count": 35,
   "id": "9131f63c-e97b-4aba-a740-9d887288dbf0",
   "metadata": {},
   "outputs": [],
   "source": [
    "# Define the segment mapping based on your previous clustering\n",
    "segment_mapping = {\n",
    "    0: 'Loyal Customers',\n",
    "    1: 'Regular Shoppers',\n",
    "    2: 'Churned Customers',\n",
    "    3: 'Potential High-Value'\n",
    "}\n",
    "\n"
   ]
  },
  {
   "cell_type": "code",
   "execution_count": 36,
   "id": "c5437c66-3dee-4e6a-8812-68835ebe8306",
   "metadata": {},
   "outputs": [
    {
     "name": "stderr",
     "output_type": "stream",
     "text": [
      "F:\\Anaconda3\\Lib\\site-packages\\sklearn\\base.py:439: UserWarning: X does not have valid feature names, but StandardScaler was fitted with feature names\n",
      "  warnings.warn(\n"
     ]
    }
   ],
   "source": [
    "# Predict the cluster for the new customer\n",
    "new_data = [[15, 8, 75000]]  # Recency, Frequency, Monetary\n",
    "scaled_data = scaler.transform(new_data)  # Apply the same scaling used during training\n",
    "predicted_cluster = kmeans.predict(scaled_data)[0]  # Get the predicted cluster"
   ]
  },
  {
   "cell_type": "code",
   "execution_count": 37,
   "id": "18eece52-397f-48fb-b5ca-94159210344d",
   "metadata": {},
   "outputs": [
    {
     "name": "stdout",
     "output_type": "stream",
     "text": [
      "Predicted Cluster: 3\n",
      "Segment Name: Potential High-Value\n"
     ]
    }
   ],
   "source": [
    "\n",
    "# Get the segment name\n",
    "predicted_segment = segment_mapping[predicted_cluster]\n",
    "\n",
    "print(\"Predicted Cluster:\", predicted_cluster)\n",
    "print(\"Segment Name:\", predicted_segment)"
   ]
  },
  {
   "cell_type": "code",
   "execution_count": null,
   "id": "38fff61d-b0f1-4c03-b97f-74c397b72e20",
   "metadata": {},
   "outputs": [],
   "source": []
  }
 ],
 "metadata": {
  "kernelspec": {
   "display_name": "Python 3 (ipykernel)",
   "language": "python",
   "name": "python3"
  },
  "language_info": {
   "codemirror_mode": {
    "name": "ipython",
    "version": 3
   },
   "file_extension": ".py",
   "mimetype": "text/x-python",
   "name": "python",
   "nbconvert_exporter": "python",
   "pygments_lexer": "ipython3",
   "version": "3.11.7"
  }
 },
 "nbformat": 4,
 "nbformat_minor": 5
}
